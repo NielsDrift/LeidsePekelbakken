{
 "cells": [
  {
   "cell_type": "code",
   "execution_count": null,
   "id": "0118e24b-cecb-48f8-a68b-d6383a726b60",
   "metadata": {},
   "outputs": [],
   "source": [
    "conda install waitress\n"
   ]
  },
  {
   "cell_type": "code",
   "execution_count": null,
   "id": "b485a126-6608-45cf-9787-3a77dabfcfee",
   "metadata": {},
   "outputs": [],
   "source": [
    "from flask import Flask, render_template\n",
    "\n",
    "import folium\n",
    "\n",
    "app = Flask(__name__)\n",
    "\n",
    "@app.route('/')\n",
    "def render_the_map():\n",
    "    return render_template('the_map.html')\n",
    "\n",
    "if __name__ == '__main__':\n",
    "    from waitress import serve\n",
    "    serve(app, host=\"0.0.0.0\", port=8080)"
   ]
  },
  {
   "cell_type": "code",
   "execution_count": null,
   "id": "a2f35689-ab70-4685-8105-41c51a3985d2",
   "metadata": {},
   "outputs": [],
   "source": []
  }
 ],
 "metadata": {
  "kernelspec": {
   "display_name": "Python 3 (ipykernel)",
   "language": "python",
   "name": "python3"
  },
  "language_info": {
   "codemirror_mode": {
    "name": "ipython",
    "version": 3
   },
   "file_extension": ".py",
   "mimetype": "text/x-python",
   "name": "python",
   "nbconvert_exporter": "python",
   "pygments_lexer": "ipython3",
   "version": "3.9.7"
  }
 },
 "nbformat": 4,
 "nbformat_minor": 5
}
